{
 "cells": [
  {
   "cell_type": "markdown",
   "metadata": {},
   "source": [
    "# 00 - Optional homework\n",
    "\n",
    "For this initial homework we will be working with a [dataset](https://github.com/fivethirtyeight/guns-data/blob/master/interactive_data.csv) available as a part of an interesting analysis of [gunshot deaths in the US](http://fivethirtyeight.com/features/gun-deaths/). The goal of this optional homework is to carefully go through the interactive visualization portrayed at the top of the aforementioned article, and use an IPython Notebook to reproduce the following claims made in the visualization:\n",
    "- Nearly *two-thirds* of gun deaths are *suicides*.\n",
    "- More than *85 percent* of suicide victims are *male*.\n",
    "- Around *a third* of all gun deaths are *homicides*.\n",
    "- Around *two-thirds* of homicide victims who are *males* in the *age-group of 15--34* are *black*.\n",
    "- *Women* constitue only *15 percent* of the total *homicide* victims.\n",
    "\n",
    "It's not necessary to generate visualizations for the results -- numbers should be more than enough to convince yourself that you \n",
    "were able to reproduce the results of that article.\n",
    "\n",
    "You can use this opportunity first of all to refresh your Python skills. If you are coming from another programming language\n",
    "(especially a static PL like Java and C++), we recommend you to take a look at this presentation:\n",
    "[Code Like a Pythonista: Idiomatic Python](http://www.omahapython.org/IdiomaticPython.html) -- it will teach\n",
    "you how to write nice Python code, while at the same time getting you up to speed with the syntax.\n",
    "Feel free to explore more advanced libraries (like [Pandas](http://pandas.pydata.org/)) if you really want, but keep in mind that you\n",
    "should be able to reproduce the results with the Python Standard Library.\n",
    "One advantage of using only the PSL is that once you will get knowledgeable about Pandas you will appreciate how much more concise\n",
    "and readable your code will become :)\n",
    "\n",
    "Credits to [Michele Catasta](https://github.com/pirroh), on whose material this version is based."
   ]
  },
  {
   "cell_type": "code",
   "execution_count": 1,
   "metadata": {},
   "outputs": [],
   "source": [
    "import csv"
   ]
  },
  {
   "cell_type": "code",
   "execution_count": 2,
   "metadata": {},
   "outputs": [],
   "source": [
    "DATA = \"interactive_data\"\n",
    "NUMERIC_COLS = [\"\", \"Deaths\", \"Population\", \"Rate\"]\n",
    "\n",
    "def read_csv(file_name, header=True, numeric_cols=[]):\n",
    "    def num(s):\n",
    "        try:\n",
    "            return int(s)\n",
    "        except ValueError:\n",
    "            return float(s)\n",
    "    \n",
    "    with open(file_name + '.csv', newline='') as csvfile:\n",
    "        data_dict = {}\n",
    "        keys = []\n",
    "        rows = csv.reader(csvfile, delimiter=',', quotechar='\"')\n",
    "        \n",
    "        # header\n",
    "        if header:\n",
    "            for val in next(rows): # get the first line\n",
    "                data_dict[val] = []\n",
    "        else:\n",
    "            for idx, val in enumerate(next(rows)):\n",
    "                data_dict[idx] = [val]\n",
    "        \n",
    "        keys = list(data_dict.keys())  \n",
    "\n",
    "        # Rows\n",
    "        for row in rows: # 2nd row and onward\n",
    "            for idx, val in enumerate(row):\n",
    "                data_dict[keys[idx]].append(val)\n",
    "        \n",
    "        for col in numeric_cols:\n",
    "            data_dict[col] = [num(val) if val != \"NA\" else -1 for val in data_dict[col] ]\n",
    "\n",
    "    return data_dict\n",
    "\n",
    "def get_indices(li, value):\n",
    "    indices = [idx for idx, val in enumerate(li) if val == value]\n",
    "\n",
    "    return indices\n",
    "\n",
    "def sum_elements_from_indices(li, indices):\n",
    "    values = [li[idx] for idx in indices]\n",
    "    s = sum(values)\n",
    "    \n",
    "    return s"
   ]
  },
  {
   "cell_type": "code",
   "execution_count": 3,
   "metadata": {},
   "outputs": [],
   "source": [
    "data_dict = read_csv(DATA, numeric_cols=NUMERIC_COLS)\n",
    "data_length = len(data_dict[\"Intent\"])"
   ]
  },
  {
   "cell_type": "markdown",
   "metadata": {},
   "source": [
    "## Procedure\n",
    "\n",
    "1. Identify the categories of interest: eg. Around two-thirds of **homicide** victims who are **males** in the age-group of **15--34** are **black**. \n",
    "2. Identify null values in those categories: eg. \"None selected\" \n",
    "3. Get indices of rows with those categories or value.\n",
    "4. Combine the categories: the intersection or union (or difference) of those indices when appropriate: eg. (homicide $\\cap$ male $\\cap$ 15--34) $-$ Race(\"None selected\")\n",
    "5. Sum the values using the indices for the combined category of interest.\n",
    "6. Compute the fraction of interest using the sums."
   ]
  },
  {
   "cell_type": "code",
   "execution_count": 4,
   "metadata": {},
   "outputs": [
    {
     "data": {
      "text/plain": [
       "0.6267518388029272"
      ]
     },
     "execution_count": 4,
     "metadata": {},
     "output_type": "execute_result"
    }
   ],
   "source": [
    "# Nearly two-thirds of gun deaths are suicides.\n",
    "deaths = sum(data_dict[\"Deaths\"])\n",
    "\n",
    "suicide_indices = get_indices(data_dict[\"Intent\"], \"Suicide\")\n",
    "none_death_indices = get_indices(data_dict[\"Intent\"], \"None selected\")\n",
    "\n",
    "sum_none_death = sum_elements_from_indices(data_dict[\"Deaths\"], none_death_indices)\n",
    "sum_suicide = sum_elements_from_indices(data_dict[\"Deaths\"], suicide_indices)\n",
    "\n",
    "sum_suicide/(deaths - sum_none_death)"
   ]
  },
  {
   "cell_type": "code",
   "execution_count": 5,
   "metadata": {},
   "outputs": [
    {
     "data": {
      "text/plain": [
       "0.8624410860351643"
      ]
     },
     "execution_count": 5,
     "metadata": {},
     "output_type": "execute_result"
    }
   ],
   "source": [
    "# More than 85 percent of suicide victims are male.\n",
    "suicide_indices = get_indices(data_dict[\"Intent\"], \"Suicide\")\n",
    "male_indices = get_indices(data_dict[\"Gender\"], \"Male\")\n",
    "female_indices = get_indices(data_dict[\"Gender\"], \"Female\")\n",
    "inter_male = list(set(suicide_indices).intersection(set(male_indices)))\n",
    "inter_female = list(set(suicide_indices).intersection(set(female_indices)))\n",
    "\n",
    "sum_suicide_male = sum_elements_from_indices(data_dict[\"Deaths\"], inter_male)\n",
    "sum_suicide_female = sum_elements_from_indices(data_dict[\"Deaths\"], inter_female)\n",
    "\n",
    "sum_suicide_male/(sum_suicide_male + sum_suicide_female)"
   ]
  },
  {
   "cell_type": "code",
   "execution_count": 6,
   "metadata": {},
   "outputs": [
    {
     "data": {
      "text/plain": [
       "0.3490023773294294"
      ]
     },
     "execution_count": 6,
     "metadata": {},
     "output_type": "execute_result"
    }
   ],
   "source": [
    "# Around a third of all gun deaths are homicides.\n",
    "homicide_indices = get_indices(data_dict[\"Intent\"], \"Homicide\")\n",
    "none_death_indices = get_indices(data_dict[\"Intent\"], \"None selected\")\n",
    "\n",
    "sum_homicide = sum_elements_from_indices(data_dict[\"Deaths\"], homicide_indices)\n",
    "\n",
    "sum_homicide/(deaths - sum_none_death)"
   ]
  },
  {
   "cell_type": "code",
   "execution_count": 7,
   "metadata": {},
   "outputs": [
    {
     "data": {
      "text/plain": [
       "0.6612482748044778"
      ]
     },
     "execution_count": 7,
     "metadata": {},
     "output_type": "execute_result"
    }
   ],
   "source": [
    "# Around two-thirds of homicide victims who are males in the age-group of 15--34 are black.\n",
    "homicide_indices = get_indices(data_dict[\"Intent\"], \"Homicide\")\n",
    "male_indices = get_indices(data_dict[\"Gender\"], \"Male\")\n",
    "age_indices = get_indices(data_dict[\"Age\"], \"15 - 34\")\n",
    "black_indices = get_indices(data_dict[\"Race\"], \"Black\")\n",
    "none_indices = get_indices(data_dict[\"Race\"], \"None selected\")\n",
    "inter = list(set(homicide_indices).intersection(set(male_indices).intersection(set(age_indices))).difference(none_indices))\n",
    "inter_black = list(set(black_indices).intersection(inter))\n",
    "\n",
    "sum_inter = sum_elements_from_indices(data_dict[\"Deaths\"], inter)\n",
    "sum_inter_black = sum_elements_from_indices(data_dict[\"Deaths\"], inter_black)\n",
    "\n",
    "sum_inter_black/sum_inter"
   ]
  },
  {
   "cell_type": "code",
   "execution_count": 8,
   "metadata": {},
   "outputs": [
    {
     "data": {
      "text/plain": [
       "0.15279495160533835"
      ]
     },
     "execution_count": 8,
     "metadata": {},
     "output_type": "execute_result"
    }
   ],
   "source": [
    "# Women constitue only 15 percent of the total homicide victims.\n",
    "homicides = get_indices(data_dict[\"Intent\"], \"Homicide\")\n",
    "none_deaths = get_indices(data_dict[\"Intent\"], \"None selected\")\n",
    "males = get_indices(data_dict[\"Gender\"], \"Male\")\n",
    "females = get_indices(data_dict[\"Gender\"], \"Female\")\n",
    "\n",
    "inter = list((set(males).union(set(females))).intersection(set(homicides)))\n",
    "inter_female = list(set(inter).intersection(females))\n",
    "\n",
    "sum_inter = sum_elements_from_indices(data_dict[\"Deaths\"], inter)\n",
    "sum_inter_female = sum_elements_from_indices(data_dict[\"Deaths\"], inter_female)\n",
    "\n",
    "sum_inter_female/sum_inter"
   ]
  }
 ],
 "metadata": {
  "kernelspec": {
   "display_name": "ada",
   "language": "python",
   "name": "ada"
  },
  "language_info": {
   "codemirror_mode": {
    "name": "ipython",
    "version": 3
   },
   "file_extension": ".py",
   "mimetype": "text/x-python",
   "name": "python",
   "nbconvert_exporter": "python",
   "pygments_lexer": "ipython3",
   "version": "3.8.6"
  }
 },
 "nbformat": 4,
 "nbformat_minor": 4
}
